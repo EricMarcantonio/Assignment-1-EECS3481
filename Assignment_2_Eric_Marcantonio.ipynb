{
  "nbformat": 4,
  "nbformat_minor": 0,
  "metadata": {
    "colab": {
      "name": "Assignment_2 - Eric Marcantonio.ipynb",
      "provenance": [],
      "collapsed_sections": [],
      "authorship_tag": "ABX9TyOsLOGIYfB5LVr010WH2D/V",
      "include_colab_link": true
    },
    "kernelspec": {
      "name": "python3",
      "display_name": "Python 3"
    }
  },
  "cells": [
    {
      "cell_type": "markdown",
      "metadata": {
        "id": "view-in-github",
        "colab_type": "text"
      },
      "source": [
        "<a href=\"https://colab.research.google.com/github/EricMarcantonio/Assignment-1-EECS3481/blob/main/Assignment_2_Eric_Marcantonio.ipynb\" target=\"_parent\"><img src=\"https://colab.research.google.com/assets/colab-badge.svg\" alt=\"Open In Colab\"/></a>"
      ]
    },
    {
      "cell_type": "markdown",
      "metadata": {
        "id": "K--WeVPflrl4"
      },
      "source": [
        "# **Assignment \\#2**\n",
        "## Eric Marcantonio\n",
        "## 216206393\n",
        "## EECS 3481"
      ]
    },
    {
      "cell_type": "code",
      "metadata": {
        "id": "b-S3_Ss9Ayxp"
      },
      "source": [
        "import math"
      ],
      "execution_count": 232,
      "outputs": []
    },
    {
      "cell_type": "markdown",
      "metadata": {
        "id": "pO_11t5Im8dR"
      },
      "source": [
        "\n",
        "## 6.6\n",
        "AES and DES are very different. One operates on bits, and the other on bytes.\n",
        "\n",
        "### DES\n",
        "\n",
        "  - Has smaller key, less secure\n",
        "  - Slower encryption and decryption\n",
        "  - 16 Rounds of encryption, with the following steps\n",
        "  - Expansion\n",
        "  - Permutation\n",
        "  - XOR with the _\n",
        "  - Substitution with S-box\n",
        "  - Substitution with the corresponding P-box\n",
        "  - Swap _\n",
        "\n",
        "### AES\n",
        "   - Has larger keys (128, 192, 256)\n",
        "   - Faster then DES\n",
        "   - Rounds of encryption are based on the key size, with the following steps\n",
        "   - SubBytes with a preset S-box\n",
        "   - ShiftRows ```>>> list.append(list.pop(0)) ```\n",
        "   - MixColumns\n",
        "   - AddRoundKeys (generated on-the-fly, or in the beginning)\n",
        "   \n",
        "\n"
      ]
    },
    {
      "cell_type": "markdown",
      "metadata": {
        "id": "oqtazTdi3nLK"
      },
      "source": [
        "## 7.4\n",
        "a) No, there are no blocks past P2 that are affected\n",
        "\n",
        "b) If there is an error at the beginning (i.e. P1) then all ciphertext blocks would be effected. The error would carry through all blocks.\n",
        "\n",
        "The effect of the receiver would be that it only effects the corresponding plaintext blocks on the receiver side"
      ]
    },
    {
      "cell_type": "markdown",
      "metadata": {
        "id": "XYMe6ZeC4mQk"
      },
      "source": [
        "## 7.5\n",
        "\n",
        "Each input block would rely on the one before, so encryption would be blocking. You could run them in parrell, but each thread would have to wait for the other, so it would be failed parallelization. In essence, you cannot encrypt in CBC mode using parallelizatoin.\n",
        "\n",
        "In decryption, all input blocks are not dependant on others, allowing paralelization to be used."
      ]
    },
    {
      "cell_type": "markdown",
      "metadata": {
        "id": "lLECFuXz5wWd"
      },
      "source": [
        "## 8.8\n",
        "a) With 64 bits of $(v\\ ||\\ x)$, Bob would have to do $XOR\\ (RC4(v\\ ||\\ x),\\ c)$\n",
        "\n",
        "b) If you are able to find 2 seperate vectors that are equal, for example ($v$<sub>a</sub> == $v$<sub>b</sub>) their corresponding $m$'s could become vulnerable if they use the method in a)"
      ]
    },
    {
      "cell_type": "markdown",
      "metadata": {
        "id": "FPaEgFe0BMsS"
      },
      "source": [
        "C) See code below"
      ]
    },
    {
      "cell_type": "code",
      "metadata": {
        "colab": {
          "base_uri": "https://localhost:8080/"
        },
        "id": "fhPTUSqDArr4",
        "outputId": "260f7b11-bff9-4891-8d22-2568903c2a70"
      },
      "source": [
        "randomv = 64\n",
        "print(math.sqrt(math.pow(2, 64))) # same as 2 to the power of 32"
      ],
      "execution_count": 233,
      "outputs": [
        {
          "output_type": "stream",
          "text": [
            "4294967296.0\n"
          ],
          "name": "stdout"
        }
      ]
    },
    {
      "cell_type": "markdown",
      "metadata": {
        "id": "kK_gV3olBLSk"
      },
      "source": [
        "D) This implies that you should change the key before you hit 2<sup>32</sup> messages"
      ]
    },
    {
      "cell_type": "markdown",
      "metadata": {
        "id": "Q0N_S8R2B5Ft"
      },
      "source": [
        "# 9.2"
      ]
    },
    {
      "cell_type": "code",
      "metadata": {
        "id": "M5Dr5cGYClsE"
      },
      "source": [
        "def t(p, q):\n",
        "  return int((p - 1) * (q - 1))\n",
        "\n",
        "def gcd(a, b):\n",
        "    if a == 0:\n",
        "        return (b, 0, 1)\n",
        "    else:\n",
        "        w, y, x = egcd(b % a, a)\n",
        "        return (w, x - (b // a) * y, y)\n",
        "\n",
        "def minv(a, m):\n",
        "    w, a, _ = gcd(a, m)\n",
        "    if w != 1:\n",
        "        return\n",
        "    else:\n",
        "        return a % m\n",
        "\n",
        "def encryptRSA(p, q, e, M) -> int:\n",
        "  n = p * q\n",
        "  assert math.gcd(t(p, q), e) == 1\n",
        "  return int(pow(M, e, n))\n",
        "\n",
        "def decryptRSA(p, q, e, C) -> int:\n",
        "  n = p * q\n",
        "  assert math.gcd(t(p, q), e) == 1\n",
        "  d = minv(e, t(p, q))\n",
        "  return int(pow(C, d, n))"
      ],
      "execution_count": 234,
      "outputs": []
    },
    {
      "cell_type": "markdown",
      "metadata": {
        "id": "l9844VdjCPt1"
      },
      "source": [
        "a)"
      ]
    },
    {
      "cell_type": "code",
      "metadata": {
        "colab": {
          "base_uri": "https://localhost:8080/"
        },
        "id": "_ySFoPdvCH7Q",
        "outputId": "681cb48c-5fe3-4cfa-9f7e-83a51b12632d"
      },
      "source": [
        "p, q, e, M = 3, 11, 7, 5\n",
        "print(\"Encryption: \", end=\"\")\n",
        "C = encryptRSA(p, q, e, M)\n",
        "print(C)\n",
        "print(\"Decryption: \", end=\"\")\n",
        "print(decryptRSA(p, q, e, C))\n",
        "p, q, e, M = None, None, None, None"
      ],
      "execution_count": 235,
      "outputs": [
        {
          "output_type": "stream",
          "text": [
            "Encryption: 14\n",
            "Decryption: 5\n"
          ],
          "name": "stdout"
        }
      ]
    },
    {
      "cell_type": "markdown",
      "metadata": {
        "id": "bDxZAXVhUqlX"
      },
      "source": [
        "b)"
      ]
    },
    {
      "cell_type": "code",
      "metadata": {
        "colab": {
          "base_uri": "https://localhost:8080/"
        },
        "id": "4QaiSqSTF1DG",
        "outputId": "7f4bf43a-8107-4d84-aeb4-5dfe8530e4ff"
      },
      "source": [
        "p, q, e, M = 5, 11, 3, 9\n",
        "print(\"Encryption: \", end=\"\")\n",
        "C = encryptRSA(p, q, e, M)\n",
        "print(C)\n",
        "print(\"Decryption: \", end=\"\")\n",
        "print(decryptRSA(p, q, e, C))\n",
        "p, q, e, M = None, None, None, None"
      ],
      "execution_count": 236,
      "outputs": [
        {
          "output_type": "stream",
          "text": [
            "Encryption: 14\n",
            "Decryption: 9\n"
          ],
          "name": "stdout"
        }
      ]
    },
    {
      "cell_type": "markdown",
      "metadata": {
        "id": "do6uxMJmUsEi"
      },
      "source": [
        "c)"
      ]
    },
    {
      "cell_type": "code",
      "metadata": {
        "colab": {
          "base_uri": "https://localhost:8080/"
        },
        "id": "3czA2d6QF1sc",
        "outputId": "ccd3104a-9c54-4e14-c19a-c5fd56ffc4de"
      },
      "source": [
        "p, q, e, M = 7, 11, 17, 8\n",
        "print(\"Encryption: \", end=\"\")\n",
        "C = encryptRSA(p, q, e, M)\n",
        "print(C)\n",
        "print(\"Decryption: \", end=\"\")\n",
        "print(decryptRSA(p, q, e, C))\n",
        "p, q, e, M = None, None, None, None"
      ],
      "execution_count": 237,
      "outputs": [
        {
          "output_type": "stream",
          "text": [
            "Encryption: 57\n",
            "Decryption: 8\n"
          ],
          "name": "stdout"
        }
      ]
    },
    {
      "cell_type": "markdown",
      "metadata": {
        "id": "pC3xbAwTUte3"
      },
      "source": [
        "d)"
      ]
    },
    {
      "cell_type": "code",
      "metadata": {
        "colab": {
          "base_uri": "https://localhost:8080/"
        },
        "id": "j2pR55enF2Xn",
        "outputId": "725e2e6f-30cc-475c-d0e5-c38a55a8daa7"
      },
      "source": [
        "p, q, e, M = 11, 13, 11, 7\n",
        "print(\"Encryption: \", end=\"\")\n",
        "C = encryptRSA(p, q, e, M)\n",
        "print(C)\n",
        "print(\"Decryption: \", end=\"\")\n",
        "print(decryptRSA(p, q, e, C))\n",
        "p, q, e, M = None, None, None, None"
      ],
      "execution_count": 238,
      "outputs": [
        {
          "output_type": "stream",
          "text": [
            "Encryption: 106\n",
            "Decryption: 7\n"
          ],
          "name": "stdout"
        }
      ]
    },
    {
      "cell_type": "markdown",
      "metadata": {
        "id": "B69Vp7WzUufN"
      },
      "source": [
        "e)"
      ]
    },
    {
      "cell_type": "code",
      "metadata": {
        "colab": {
          "base_uri": "https://localhost:8080/"
        },
        "id": "_OsdWl_HF211",
        "outputId": "c9dd75b3-905a-4a89-e587-ba10e3d90b26"
      },
      "source": [
        "p, q, e, M = 17, 31, 7, 2\n",
        "print(\"Encryption: \", end=\"\")\n",
        "C = encryptRSA(p, q, e, M)\n",
        "print(C)\n",
        "print(\"Decryption: \", end=\"\")\n",
        "print(decryptRSA(p, q, e, C))\n",
        "p, q, e, M = None, None, None, None"
      ],
      "execution_count": 239,
      "outputs": [
        {
          "output_type": "stream",
          "text": [
            "Encryption: 128\n",
            "Decryption: 2\n"
          ],
          "name": "stdout"
        }
      ]
    },
    {
      "cell_type": "markdown",
      "metadata": {
        "id": "ayt8SODQJHZE"
      },
      "source": [
        "# 9.3"
      ]
    },
    {
      "cell_type": "code",
      "metadata": {
        "colab": {
          "base_uri": "https://localhost:8080/"
        },
        "id": "boQjRi04NuHz",
        "outputId": "9580a632-b559-4a88-b4d5-d58ffa51bf63"
      },
      "source": [
        "n = 35\n",
        "e = 5\n",
        "C = 10\n",
        "ans = None\n",
        "for p in range(2, 1000):\n",
        "  for q in range(2, 1000):\n",
        "    if p * q == n:\n",
        "      ans = decryptRSA(p, q, e, C)\n",
        "  if ans:\n",
        "    break\n",
        "print(\"Plaintext M:\", ans)"
      ],
      "execution_count": 240,
      "outputs": [
        {
          "output_type": "stream",
          "text": [
            "Plaintext M: 5\n"
          ],
          "name": "stdout"
        }
      ]
    },
    {
      "cell_type": "markdown",
      "metadata": {
        "id": "TFG-1amUYYIm"
      },
      "source": [
        "# 9.4"
      ]
    },
    {
      "cell_type": "code",
      "metadata": {
        "id": "8tsyjzb2YWhl"
      },
      "source": [
        ""
      ],
      "execution_count": 240,
      "outputs": []
    },
    {
      "cell_type": "code",
      "metadata": {
        "colab": {
          "base_uri": "https://localhost:8080/"
        },
        "id": "sRdDMgPdYqek",
        "outputId": "c3df2795-dc03-47a6-964c-32dc756b0b94"
      },
      "source": [
        "n = 3599\n",
        "e = 31\n",
        "flag = None\n",
        "for p in range(2, 10000):\n",
        "  for q in range(2, 10000):\n",
        "    if p * q == n:\n",
        "      flag = 1\n",
        "      break\n",
        "  if flag:\n",
        "    break\n",
        "\n",
        "n = t(p, q)\n",
        "d = minv(e, n)\n",
        "print(\"Private Key: \", d)"
      ],
      "execution_count": 241,
      "outputs": [
        {
          "output_type": "stream",
          "text": [
            "Private Key:  3031\n"
          ],
          "name": "stdout"
        }
      ]
    },
    {
      "cell_type": "markdown",
      "metadata": {
        "id": "i5xgo9gdbrlx"
      },
      "source": [
        "---\n",
        "# 9.7\n",
        "No this is not safe, because if the same modulus is the same, it is easy to find p and q, and from there compute the public and private key."
      ]
    },
    {
      "cell_type": "markdown",
      "metadata": {
        "id": "cN3CXS9liAeR"
      },
      "source": [
        "# 9.18"
      ]
    },
    {
      "cell_type": "markdown",
      "metadata": {
        "id": "YU-ETXZ7iDzW"
      },
      "source": [
        "# 10.1"
      ]
    },
    {
      "cell_type": "code",
      "metadata": {
        "id": "JZOywZgpi-za"
      },
      "source": [
        "q = 71\n",
        "alpha = 7"
      ],
      "execution_count": 242,
      "outputs": []
    },
    {
      "cell_type": "markdown",
      "metadata": {
        "id": "pY9UPsmxi9I-"
      },
      "source": [
        "a)"
      ]
    },
    {
      "cell_type": "code",
      "metadata": {
        "colab": {
          "base_uri": "https://localhost:8080/"
        },
        "id": "DFwbst6hieLS",
        "outputId": "441eab0c-8291-438d-ccdd-3765f4ac9516"
      },
      "source": [
        "XA = 15\n",
        "print(\"Alice's private key is:\", pow(alpha, XA, q))"
      ],
      "execution_count": 243,
      "outputs": [
        {
          "output_type": "stream",
          "text": [
            "Alice's private key is: 23\n"
          ],
          "name": "stdout"
        }
      ]
    },
    {
      "cell_type": "markdown",
      "metadata": {
        "id": "2LfBY9ZpjNuD"
      },
      "source": [
        "b)"
      ]
    },
    {
      "cell_type": "code",
      "metadata": {
        "colab": {
          "base_uri": "https://localhost:8080/"
        },
        "id": "yQsPfaJ-jOxC",
        "outputId": "04657995-4723-400e-ac54-2e52f7e6e376"
      },
      "source": [
        "YB = pow(alpha, 27, q)\n",
        "print(\"Bob's private key is:\", pow(alpha, 27, q))"
      ],
      "execution_count": 244,
      "outputs": [
        {
          "output_type": "stream",
          "text": [
            "Bob's private key is: 21\n"
          ],
          "name": "stdout"
        }
      ]
    },
    {
      "cell_type": "markdown",
      "metadata": {
        "id": "YGIL2ILujhTP"
      },
      "source": [
        "c)"
      ]
    },
    {
      "cell_type": "code",
      "metadata": {
        "colab": {
          "base_uri": "https://localhost:8080/"
        },
        "id": "kzUkJpuhjibg",
        "outputId": "74b88149-291d-485e-c87a-a0af84dcbb83"
      },
      "source": [
        "print(\"There shared key is:\", pow(YB, XA, q))"
      ],
      "execution_count": 245,
      "outputs": [
        {
          "output_type": "stream",
          "text": [
            "There shared key is: 34\n"
          ],
          "name": "stdout"
        }
      ]
    },
    {
      "cell_type": "markdown",
      "metadata": {
        "id": "sM8BbjYbj7zu"
      },
      "source": [
        "# 10.15\n",
        "\n"
      ]
    },
    {
      "cell_type": "markdown",
      "metadata": {
        "id": "I4ZuA8AqlU1u"
      },
      "source": [
        "$G = (2, 7)$\n",
        "\n",
        "$E_{11} = (1, 6)$\n",
        "\n",
        "$n_B = 7$\n",
        "\n",
        "$P_M = (10, 9)$\n",
        "\n",
        "$k = 3$"
      ]
    },
    {
      "cell_type": "markdown",
      "metadata": {
        "id": "RjnO-uQvklka"
      },
      "source": [
        "a) \n",
        "\n",
        "$=\\ 7\\ *\\ G =\\ (2, 7)$\n"
      ]
    },
    {
      "cell_type": "markdown",
      "metadata": {
        "id": "POzZJtN1o8-D"
      },
      "source": [
        "b) \n",
        "\n",
        "$C_m = \\{kG, P_m + kP_B\\} $\n",
        "\n",
        "$C_m = \\{(8, 3), (10, 2)\\}$\n"
      ]
    },
    {
      "cell_type": "markdown",
      "metadata": {
        "id": "VRbcLbeGpuKM"
      },
      "source": [
        "c)\n",
        "\n",
        "$P_m = \\{kP_b - n_b\\ (kG, P_m)\\} $\n",
        "\n",
        "$P_m = (10, 9)$"
      ]
    },
    {
      "cell_type": "markdown",
      "metadata": {
        "id": "PkoxhLn1qM92"
      },
      "source": [
        "# 11.4\n",
        "\n",
        "If we look at 1 round of DES, we see that it has a one-way function, $F$ and an XOR.\n",
        "\n",
        "We also know that in a round, the block is split into 2 halves. \n",
        "\n",
        "Let $L$ represent the left side [0, 32)\n",
        "\n",
        "Let $R$ represent the right side [32, 64)\n",
        "\n",
        "$F$ = $(K_{AB}, M)$ and its main job is to map $R$ to $K$ and output 32 bits\n",
        "\n",
        "??80 bits wtf is that\n",
        "\n",
        "\n"
      ]
    },
    {
      "cell_type": "markdown",
      "metadata": {
        "id": "29pthP0vtbTB"
      },
      "source": [
        "# 11.6\n",
        "\n",
        "It is false.\n",
        "\n",
        "Collison resistant doesn't mean that for every unique input you get a unique output: it means its unfeasible. You are to some degree sure that it is differen."
      ]
    },
    {
      "cell_type": "markdown",
      "metadata": {
        "id": "46Kaie6Hueal"
      },
      "source": [
        "# 12.3 \n",
        "\n",
        "$T = mac(K, M)$\n",
        "\n",
        "\n",
        "$mac$ is defined as:\n",
        "\n",
        "$A(K, (xor(T, xor(M, T))) = T$"
      ]
    },
    {
      "cell_type": "code",
      "metadata": {
        "id": "BFON883SxlDL"
      },
      "source": [
        ""
      ],
      "execution_count": null,
      "outputs": []
    },
    {
      "cell_type": "markdown",
      "metadata": {
        "id": "bgc_HBiTwoY-"
      },
      "source": [
        "# 12.3"
      ]
    },
    {
      "cell_type": "markdown",
      "metadata": {
        "id": "4zZjP2JhwuTD"
      },
      "source": [
        "# 13.2\n",
        "\n",
        "The signature should be recalcuted because the validity of message $M$ and $r$ may be compromised\n"
      ]
    },
    {
      "cell_type": "markdown",
      "metadata": {
        "id": "5KEBPRKExjRe"
      },
      "source": [
        "# 13.3\n",
        "\n",
        "If k is leaked, attacker can use this to find the private key used.\n",
        "\n"
      ]
    },
    {
      "cell_type": "markdown",
      "metadata": {
        "id": "30K2LszMyTJF"
      },
      "source": [
        "# 13.7"
      ]
    },
    {
      "cell_type": "markdown",
      "metadata": {
        "id": "RqPkxVpT2n0_"
      },
      "source": [
        "# 14.1\n"
      ]
    },
    {
      "cell_type": "markdown",
      "metadata": {
        "id": "3JL1EEfy2uv2"
      },
      "source": [
        "# 14.7"
      ]
    },
    {
      "cell_type": "markdown",
      "metadata": {
        "id": "r93Un3VP2wYW"
      },
      "source": [
        "# 15.6"
      ]
    },
    {
      "cell_type": "markdown",
      "metadata": {
        "id": "tZcdvp952yFW"
      },
      "source": [
        "# 15.8"
      ]
    },
    {
      "cell_type": "markdown",
      "metadata": {
        "id": "Cw_L6tcp20Ae"
      },
      "source": [
        "# 15.10"
      ]
    },
    {
      "cell_type": "markdown",
      "metadata": {
        "id": "C63D1TuO22Mp"
      },
      "source": [
        "# 17.3"
      ]
    },
    {
      "cell_type": "markdown",
      "metadata": {
        "id": "MmFjCNv925gw"
      },
      "source": [
        "# 18.3"
      ]
    }
  ]
}
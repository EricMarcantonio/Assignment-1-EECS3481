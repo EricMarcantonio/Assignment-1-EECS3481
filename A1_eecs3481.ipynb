{
  "nbformat": 4,
  "nbformat_minor": 0,
  "metadata": {
    "colab": {
      "name": "A1_eecs3481.ipynb",
      "provenance": [],
      "collapsed_sections": [],
      "include_colab_link": true
    },
    "kernelspec": {
      "display_name": "Python 3",
      "language": "python",
      "name": "python3"
    },
    "language_info": {
      "codemirror_mode": {
        "name": "ipython",
        "version": 3
      },
      "file_extension": ".py",
      "mimetype": "text/x-python",
      "name": "python",
      "nbconvert_exporter": "python",
      "pygments_lexer": "ipython3",
      "version": "3.8.3"
    }
  },
  "cells": [
    {
      "cell_type": "markdown",
      "metadata": {
        "id": "view-in-github",
        "colab_type": "text"
      },
      "source": [
        "<a href=\"https://colab.research.google.com/github/EricMarcantonio/Assignment-1-EECS3481/blob/main/A1_eecs3481.ipynb\" target=\"_parent\"><img src=\"https://colab.research.google.com/assets/colab-badge.svg\" alt=\"Open In Colab\"/></a>"
      ]
    },
    {
      "cell_type": "markdown",
      "metadata": {
        "id": "qPso6ZjWWAWF"
      },
      "source": [
        "# Eric Marcantonio\n",
        "## 216 206 393"
      ]
    },
    {
      "cell_type": "markdown",
      "metadata": {
        "id": "njFUnctbEtgd"
      },
      "source": [
        "# 3.1"
      ]
    },
    {
      "cell_type": "markdown",
      "metadata": {
        "id": "VJK0phc6WAWH"
      },
      "source": [
        "### A\n",
        "No `b` gives a shift relationship from plain to cipher text. The mapping is 1-to-1 and constant"
      ]
    },
    {
      "cell_type": "markdown",
      "metadata": {
        "id": "wdlxbY_xWAWH"
      },
      "source": [
        "### B\n",
        "`2,4,6,8,10.12,13,14,16,18,20,22,24` are not allowed.\n",
        "Above 25, anything that is `mod 26` is not allowed"
      ]
    },
    {
      "cell_type": "markdown",
      "metadata": {
        "id": "I-xD2AQBWAWI"
      },
      "source": [
        "### C\n",
        "$gcd(a,26)$  = 1, making `a` and `26` prime.\n",
        "\n",
        "This tells us that\n",
        "$E(a, p) = E(a, q) | 0 \\ge p \\ge q \\ge 26$ `iif $a(p-q)$ is divisable by 26`"
      ]
    },
    {
      "cell_type": "markdown",
      "metadata": {
        "id": "Y5KSq15mEUYM"
      },
      "source": [
        "# 3.4"
      ]
    },
    {
      "cell_type": "code",
      "metadata": {
        "id": "5oyzuHwvEun-",
        "outputId": "1de1f374-172e-428e-8f47-293193a48ae3",
        "colab": {
          "base_uri": "https://localhost:8080/"
        }
      },
      "source": [
        "import string\n",
        "ciphertext = \"hzsrnqc klyy wqc flo mflwf ol zqdn nsoznj wskn lj xzsrbjnf, wzsxz gqv zqhhnf ol ozn glco zlfnco hnlhrn; nsoznj jnrqosdnc lj fnqj kjsnfbc, wzsxz sc xnjoqsfrv gljn efeceqr. zn rsdnb qrlfn sf zsc zlecn sf cqdsrrn jlw, wzsoznj flfn hnfnojqonb. q csfyrn blgncosx cekksxnb ol cnjdn zsg. zn pjnqmkqconb qfb bsfnb qo ozn xrep, qo zlejc gqozngqosxqrrv ksanb, sf ozn cqgn jllg, qo ozn cqgn oqprn, fndnj oqmsfy zsc gnqrc wsoz loznj gngpnjc, gexz rncc pjsfysfy q yenco wsoz zsg; qfb wnfo zlgn qo naqxorv gsbfsyzo, lfrv ol jnosjn qo lfxn ol pnb. zn fndnj ecnb ozn xlcv xzqgpnjc wzsxz ozn jnkljg hjldsbnc klj soc kqdlejnb gngpnjc. zn hqccnb onf zlejc leo lk ozn ownfov-klej sf cqdsrrn jlw, nsoznj sf crnnhsfy lj gqmsfy zsc olsrno.\"\n",
        "freq = dict()\n",
        "for x in range(0, 26):\n",
        "    freq[string.ascii_lowercase[x]] = 0\n",
        "\n",
        "max_num = [\"\", 0]\n",
        "\n",
        "# find the letter 'e'\n",
        "for x in range(0, len(ciphertext)):\n",
        "    if str.isalpha(ciphertext[x]):\n",
        "        freq[ciphertext[x]] += 1\n",
        "        if freq[ciphertext[x]] > max_num[1]:\n",
        "            max_num[0] = ciphertext[x]\n",
        "            max_num[1] = freq[ciphertext[x]]\n",
        "        \n",
        "the_freq = dict()\n",
        "different_comb = list()\n",
        "max_the = [\"\", 0]\n",
        "# find 'the'\n",
        "for x in range(0, len(ciphertext)):\n",
        "    try:\n",
        "        if not ciphertext[x] + ciphertext[x+1] + ciphertext[x+2] in different_comb:\n",
        "            different_comb.append(ciphertext[x] + ciphertext[x+1] + ciphertext[x+2])\n",
        "            the_freq[ciphertext[x] + ciphertext[x+1] + ciphertext[x+2]] = 0\n",
        "        else:\n",
        "            the_freq[ciphertext[x] + ciphertext[x+1] + ciphertext[x+2]] += 1\n",
        "            if the_freq[ciphertext[x] + ciphertext[x+1] + ciphertext[x+2]] > max_the[1]:\n",
        "                max_the[0] = ciphertext[x] + ciphertext[x+1] + ciphertext[x+2]\n",
        "                max_the[1] = the_freq[ciphertext[x] + ciphertext[x+1] + ciphertext[x+2]]\n",
        "    except:\n",
        "#         bounds errors, it will never be bigger, but will throw error.\n",
        "        pass\n",
        "\n",
        "\n",
        "\n",
        "print(\"the\\t==>\\t\", max_the[0],\"\\t\" , max_the[1])\n",
        "print(\"e\\t==>\\t\", max_num[0],\"\\t\" , max_num[1])"
      ],
      "execution_count": null,
      "outputs": [
        {
          "output_type": "stream",
          "text": [
            "the\t==>\t ozn \t 12\n",
            "e\t==>\t n \t 84\n"
          ],
          "name": "stdout"
        }
      ]
    },
    {
      "cell_type": "markdown",
      "metadata": {
        "id": "MWs-XYTQWAWN"
      },
      "source": [
        "Using the above numbers, we plug in `the` is mapped to `ozn` and `e` is mapped to `n` into https://www.dcode.fr/monoalphabetic-substitution and it gives us the key `QPXBNKYZSIMRGFLHUJCOEDWAVT`. This gives us the decoded message:\n",
        "\n",
        "`PHILEAS FOGG WAS NOT KNOWN TO HAVE EITHER WIFE OR CHILDREN, WHICH MAY HAPPEN TO THE MOST HONEST PEOPLE; EITHER RELATIVES OR NEAR FRIENDS, WHICH IS CERTAINLY MORE UNUSUAL. HE LIVED ALONE IN HIS HOUSE IN SAVILLE ROW, WHITHER NONE PENETRATED. A SINGLE DOMESTIC SUFFICED TO SERVE HIM. HE BREAKFASTED AND DINED AT THE CLUB, AT HOURS MATHEMATICALLY FIXED, IN THE SAME ROOM, AT THE SAME TABLE, NEVER TAKING HIS MEALS WITH OTHER MEMBERS, MUCH LESS BRINGING A GUEST WITH HIM; AND WENT HOME AT EXACTLY MIDNIGHT, ONLY TO RETIRE AT ONCE TO BED. HE NEVER USED THE COSY CHAMBERS WHICH THE REFORM PROVIDES FOR ITS FAVOURED MEMBERS. HE PASSED TEN HOURS OUT OF THE TWENTY-FOUR IN SAVILLE ROW, EITHER IN SLEEPING OR MAKING HIS TOILET.`"
      ]
    },
    {
      "cell_type": "markdown",
      "metadata": {
        "id": "_EhIT3cLWAWO"
      },
      "source": [
        "# 3.5"
      ]
    },
    {
      "cell_type": "markdown",
      "metadata": {
        "id": "qGXuSMddEUYN"
      },
      "source": [
        "### A\n",
        "To create the key, we add unseen characters to an empty string"
      ]
    },
    {
      "cell_type": "code",
      "metadata": {
        "id": "iwLqggziEUYP",
        "outputId": "fcc40d5a-ef99-438f-c2c1-c10afccb3923",
        "colab": {
          "base_uri": "https://localhost:8080/"
        }
      },
      "source": [
        "sentance = \"The snow lay thick on the steps and the snowflakes driven by the wind looked black in the headlights of the cars.\".upper()\n",
        "key = \"\"\n",
        "\n",
        "i = 0\n",
        "while i < len(sentance):\n",
        "    if not sentance[i] in key:\n",
        "        key += sentance[i]\n",
        "    i += 1\n",
        "key = key.replace(\" \", \"\").replace(\".\", \"\").lower()\n",
        "print(\"Key:\", key)"
      ],
      "execution_count": null,
      "outputs": [
        {
          "output_type": "stream",
          "text": [
            "Key: thesnowlayickpdfrvbg\n"
          ],
          "name": "stdout"
        }
      ]
    },
    {
      "cell_type": "markdown",
      "metadata": {
        "id": "lIwVxtoiEUYU"
      },
      "source": [
        "This provides us with a mapping of `key` to Alphabet"
      ]
    },
    {
      "cell_type": "code",
      "metadata": {
        "id": "44cfqdKZEUYW",
        "outputId": "64069a6e-acaa-4d8a-fa01-32bca32cba6d",
        "colab": {
          "base_uri": "https://localhost:8080/"
        }
      },
      "source": [
        "import string\n",
        "ciphertext = \"SIDKHKDM AF HCRKIABIE SHIMC KD LFEAILA\"\n",
        "mapping = zip(string.ascii_uppercase, key)\n",
        "for i, j in mapping:\n",
        "    if (i in ciphertext):\n",
        "        ciphertext = ciphertext.replace(i, j)\n",
        "print(\"Plaintext:\", ciphertext)"
      ],
      "execution_count": null,
      "outputs": [
        {
          "output_type": "stream",
          "text": [
            "Plaintext: basilisk to leviathan blake is contact\n"
          ],
          "name": "stdout"
        }
      ]
    },
    {
      "cell_type": "markdown",
      "metadata": {
        "id": "CdMA577MEUYZ"
      },
      "source": [
        "### B\n",
        "No, its not secure because it uses monoalphabetic cipher that has permutation. It can't be highly secure because it can be easily broken by knowing the character frequency."
      ]
    },
    {
      "cell_type": "markdown",
      "metadata": {
        "id": "nUl9QeVOEUYa"
      },
      "source": [
        "### C\n",
        "By using the last sentance, it may not contain all the letters in the alaphabet to create the key. With no more sentacces after it, the key will be incomplete.Using the first sentace, you can continue with the next sentance to complete the key"
      ]
    },
    {
      "cell_type": "markdown",
      "metadata": {
        "id": "Ex3AQIOkEUYb"
      },
      "source": [
        "# 3.9"
      ]
    },
    {
      "cell_type": "markdown",
      "metadata": {
        "id": "QBakhIF7EUYc"
      },
      "source": [
        "Make a 5x5 array, with the rest of the alphabet filling in the empty spots\n",
        "R\tO\tY\tA\tL\n",
        "N\tE\tW\tZ\tD\n",
        "V\tB\tC\tF\tG\n",
        "H\tI/J\tK\tM\tP\n",
        "Q\tS\tT\tU\tX\n",
        "\n",
        "To decrypt this message, we must reverse the Playfair encryption algorithm.\n",
        "\n",
        "We are left with the following message:\n",
        "\n",
        "`PT BOAT ONE OWE NINE LOST IN ACTION IN BLACKESS STRAIT TWO MILES SW MERESU COVE X CREW OF TWELVE X REQUEST ANY INFORMATION`"
      ]
    },
    {
      "cell_type": "markdown",
      "metadata": {
        "id": "yJJbMSLgEUYc"
      },
      "source": [
        "# 3.14"
      ]
    },
    {
      "cell_type": "markdown",
      "metadata": {
        "id": "qe886U0fEUYd"
      },
      "source": [
        "### A"
      ]
    },
    {
      "cell_type": "code",
      "metadata": {
        "id": "jVs1sIXlEUYd",
        "outputId": "c2de52ea-7d53-4e7c-bbfc-4ef9cce8a98a",
        "colab": {
          "base_uri": "https://localhost:8080/"
        }
      },
      "source": [
        "message = \"meet me at the usual place at ten rather than eight o clock\".replace(\" \", \"\") + \"z\" # To make it even\n",
        "numeric_msg = []\n",
        "mapping = dict()\n",
        "for eachLetter in message:\n",
        "    numeric_msg.append(string.ascii_lowercase.find(eachLetter))\n",
        "    \n",
        "for x in range(0, 26):\n",
        "    mapping[x] = string.ascii_lowercase[x]\n",
        "\n",
        "key = [7, 3, 2, 5]\n",
        "\n",
        "ciphertext = \"\"\n",
        "for x in range (0, 48, 2):\n",
        "    num1 = (numeric_msg[x] * key[0] + numeric_msg[x + 1] * key[1]) % 26\n",
        "    num2 = (numeric_msg[x] * key[2] + numeric_msg[x + 1] * key[3]) % 26\n",
        "    ciphertext += mapping[num1] + mapping[num2]\n",
        "\n",
        "ciphertext = ciphertext.upper()\n",
        "print(\"ciphertext:\", ciphertext)"
      ],
      "execution_count": null,
      "outputs": [
        {
          "output_type": "stream",
          "text": [
            "ciphertext: SSHZSSFRYVKEEGHDIHGKCIIDPVPIYVBPYVNNAWLVTEVHAMPP\n"
          ],
          "name": "stdout"
        }
      ]
    },
    {
      "cell_type": "markdown",
      "metadata": {
        "id": "Dptsd57NEUYg"
      },
      "source": [
        "### B"
      ]
    },
    {
      "cell_type": "code",
      "metadata": {
        "id": "c78JmmZDEUYh",
        "outputId": "4832edf3-bfe1-4cf4-ab61-53719882783a",
        "colab": {
          "base_uri": "https://localhost:8080/"
        }
      },
      "source": [
        "message = ciphertext # To make it even\n",
        "numeric_msg = []\n",
        "mapping = dict()\n",
        "for eachLetter in message:\n",
        "    numeric_msg.append(string.ascii_uppercase.find(eachLetter))\n",
        "    \n",
        "for x in range(0, 26):\n",
        "    mapping[x] = string.ascii_uppercase[x]\n",
        "\n",
        "# after doing some math from MATH 1025\n",
        "# find the det, Modular multiplicaive inverse, the Adj Matrix and multiplying, you get\n",
        "key = [19, 25, 8, 11]\n",
        "\n",
        "plaintext = \"\"\n",
        "for x in range (0, 48, 2):\n",
        "    num1 = (numeric_msg[x] * key[0] + numeric_msg[x + 1] * key[1]) % 26\n",
        "    num2 = (numeric_msg[x] * key[2] + numeric_msg[x + 1] * key[3]) % 26\n",
        "    plaintext += mapping[num1] + mapping[num2]\n",
        "\n",
        "plaintext = plaintext.upper()\n",
        "print(\"plaintext:\", plaintext)"
      ],
      "execution_count": null,
      "outputs": [
        {
          "output_type": "stream",
          "text": [
            "plaintext: MEETMEATTHEUSUALPLACEATTENRATHERTHANEIGHTOCLOCKZ\n"
          ],
          "name": "stdout"
        }
      ]
    },
    {
      "cell_type": "markdown",
      "metadata": {
        "id": "yVTPxbC4EUYo"
      },
      "source": [
        "# 3.20"
      ]
    },
    {
      "cell_type": "markdown",
      "metadata": {
        "id": "Lh5KexWPEUYp"
      },
      "source": [
        "### A"
      ]
    },
    {
      "cell_type": "code",
      "metadata": {
        "id": "f0FjUy18EUYq",
        "outputId": "9a7ec3df-a5ed-4edb-b6ab-a5c4fd7fcdd0",
        "colab": {
          "base_uri": "https://localhost:8080/"
        }
      },
      "source": [
        "text = \"sendmoremoney\"\n",
        "ciphertext = \"\"\n",
        "key = [3, 11, 5, 7, 17, 21, 0, 11, 14, 8, 7, 13, 9]\n",
        "mapping_char_to_int = dict()\n",
        "mapping_int_to_char = dict()\n",
        "for x in range(0, 26):\n",
        "    mapping_char_to_int[string.ascii_lowercase[x]] = x\n",
        "    mapping_int_to_char[x] = string.ascii_lowercase[x]\n",
        "for index, k in enumerate(key):\n",
        "    spot = mapping_char_to_int[text[index]]\n",
        "    if (spot + k > 25):\n",
        "        ciphertext += mapping_int_to_char[mapping_char_to_int[text[index]] + k - 26]\n",
        "    else:\n",
        "        ciphertext += mapping_int_to_char[mapping_char_to_int[text[index]] + k]\n",
        "print(\"ciphertext:\", ciphertext)"
      ],
      "execution_count": null,
      "outputs": [
        {
          "output_type": "stream",
          "text": [
            "ciphertext: vpskdjrpawurh\n"
          ],
          "name": "stdout"
        }
      ]
    },
    {
      "cell_type": "markdown",
      "metadata": {
        "id": "B15CumXZEUYt"
      },
      "source": [
        "### B"
      ]
    },
    {
      "cell_type": "markdown",
      "metadata": {
        "id": "wLCLcfKKEUYu"
      },
      "source": [
        "We know that (the ciphertext + the key) mod 26 == the plaintext.\n",
        "\n",
        "This implies that the plaintext - the ciphertext = key (wrapping if above 26)"
      ]
    },
    {
      "cell_type": "code",
      "metadata": {
        "id": "Iao38iW1EUYu",
        "outputId": "35772e68-e4a4-42e7-adb9-e563bb022dbb",
        "colab": {
          "base_uri": "https://localhost:8080/"
        }
      },
      "source": [
        "key = []\n",
        "mapping_char_to_int = dict()\n",
        "mapping_int_to_char = dict()\n",
        "for x in range(0, 26):\n",
        "    mapping_char_to_int[string.ascii_lowercase[x]] = x\n",
        "    mapping_int_to_char[x] = string.ascii_lowercase[x]\n",
        "\n",
        "for cipher_char, plain_char in zip(ciphertext, \"cashnotneeded\"):\n",
        "    if(mapping_char_to_int[plain_char] - mapping_char_to_int[cipher_char]) < 0:\n",
        "        key.append(mapping_char_to_int[plain_char] - mapping_char_to_int[cipher_char] + 26)\n",
        "    else:\n",
        "        key.append(mapping_char_to_int[plain_char] - mapping_char_to_int[cipher_char])\n",
        "key"
      ],
      "execution_count": null,
      "outputs": [
        {
          "output_type": "execute_result",
          "data": {
            "text/plain": [
              "[7, 11, 0, 23, 10, 5, 2, 24, 4, 8, 9, 13, 22]"
            ]
          },
          "metadata": {
            "tags": []
          },
          "execution_count": 7
        }
      ]
    },
    {
      "cell_type": "markdown",
      "metadata": {
        "id": "8wrqQMOgEUYx"
      },
      "source": [
        "# 4.8"
      ]
    },
    {
      "cell_type": "markdown",
      "metadata": {
        "id": "sA1IhNHeEUYy"
      },
      "source": [
        "### A\n",
        "\n",
        "Start from the inside and use notion #2:\n",
        "\n",
        "$T_{16}$ ($L_{15}$ || $R_{15}$) = $L_{16}$ || $R_{16}$\n",
        "\n",
        "\n",
        "Sub, using notation #4\n",
        "\n",
        "$T_{17}$ ($L_{16}$ || $R_{16}$) = $R_{16}$ || $L_{16}$\n",
        "\n",
        "Sub and cancel,\n",
        "\n",
        "$IP$($IP^-1$($R_{16}$ || $L_{16}$)) = $R_{16}$ || $L_{16}$\n",
        "\n",
        "Using notation #3:\n",
        "\n",
        "$TD_{16}(R_{16} || L_{16}) = R_{15} || L_{15}$\n",
        "\n",
        "QED"
      ]
    },
    {
      "cell_type": "markdown",
      "metadata": {
        "id": "vt7HpHNuWAWu"
      },
      "source": [
        "### B\n",
        "\n",
        "$T_{16}(L_{15} || R_{15}) = L_{16} || R_{16}$\n",
        "\n",
        "RHS:\n",
        "\n",
        "$IP(IP^-1(L_{16} || R_{16})) = L_{16}$ || $R_{16}$\n",
        "\n",
        "$TP_{1}(R_{16} || L_{16} = R_{16} || XOR f(R_{16}, K_{16} $\n",
        "\n",
        "Because this $\\ne$ $ L_{15}$ || $R_{16} $ the equality doesn't hold"
      ]
    },
    {
      "cell_type": "markdown",
      "metadata": {
        "id": "qY5dfRjOEUYz"
      },
      "source": [
        "# 4.11"
      ]
    },
    {
      "cell_type": "markdown",
      "metadata": {
        "id": "4Lr59WLHEUY2"
      },
      "source": [
        "The question tells us that the key and the plaintext are the same: `0123456789ABCDEF`\n",
        "\n",
        "### A"
      ]
    },
    {
      "cell_type": "code",
      "metadata": {
        "id": "F0Se4AVLEUY4",
        "outputId": "18671801-62c2-4380-fbae-2268df14f42e",
        "colab": {
          "base_uri": "https://localhost:8080/"
        }
      },
      "source": [
        "def printn(text: str, n: int):\n",
        "    temp = \"\"\n",
        "    for x in range(0, len(text), n):\n",
        "        temp += text[x: x+n] + \" \"\n",
        "    print(temp)\n",
        "key = \"0123456789ABCDEF\"\n",
        "key_plus = \"\"\n",
        "for eachChar in key:\n",
        "    bit = bin(int(eachChar, 16))[2:]\n",
        "    if len(bit) < 4:\n",
        "        bit = \"0\" * (4-len(bit)) + bit\n",
        "    key_plus += bit\n",
        "pc_1 = [57, 49, 41, 33, 25, 17, 9,\n",
        "        1, 58, 50, 42, 34, 26, 18,\n",
        "        10, 2, 59, 51, 43, 35, 27,\n",
        "        19, 11, 3, 60, 52, 44, 36,\n",
        "        63, 55, 47, 39, 31, 23, 15,\n",
        "        7, 62, 54, 46, 38, 30, 22,\n",
        "        14, 6, 61, 53, 45, 37, 29,\n",
        "        21, 13, 5, 28, 20, 12, 4]\n",
        "pc_2 = [14, 17, 11, 24, 1, 5, 3, 28,\n",
        "        15, 6, 21, 10, 23, 19, 12, 4,\n",
        "        26, 8, 16, 7, 27, 20, 13, 2,\n",
        "        41, 52, 31, 37, 47, 55, 30, 40,\n",
        "        51, 45, 33, 48, 44, 49, 39, 56,\n",
        "        34, 53, 46, 42, 50, 36, 29, 32]\n",
        "\n",
        "new_key = \"\"\n",
        "for shift in pc_1:\n",
        "    new_key += key_plus[shift - 1]\n",
        "\n",
        "c0 = new_key[0: int(len(new_key) / 2)]\n",
        "d0 = new_key[int(len(new_key) / 2):]\n",
        "c1 = c0[1: len(c0)] + c0[0]\n",
        "d1 = d0[1: len(d0)] + d0[0]\n",
        "\n",
        "\n",
        "cd = c1 + d1\n",
        "k1 = \"\"\n",
        "for shift in pc_2:\n",
        "    k1 += cd[shift - 1]\n",
        "print(\"k1:\", end=\"\")\n",
        "printn(k1, 4)"
      ],
      "execution_count": null,
      "outputs": [
        {
          "output_type": "stream",
          "text": [
            "k1:0000 1011 0000 0010 0110 0111 1001 1011 0100 1001 1010 0101 \n"
          ],
          "name": "stdout"
        }
      ]
    },
    {
      "cell_type": "markdown",
      "metadata": {
        "id": "jprQtjVXWAW0"
      },
      "source": [
        "### B"
      ]
    },
    {
      "cell_type": "code",
      "metadata": {
        "id": "IpbgPylwWAW1",
        "outputId": "13e6dffd-481c-4cf7-a3f9-563faf36ed11",
        "colab": {
          "base_uri": "https://localhost:8080/"
        }
      },
      "source": [
        "IP = [58, 50, 42, 34, 26, 18, 10, 2,\n",
        "      60, 52, 44, 36, 28, 20, 12, 4,\n",
        "      62, 54, 46, 38, 30, 22, 14, 6,\n",
        "      64, 56, 48, 40, 32, 24, 16, 8,\n",
        "      57, 49, 41, 33, 25, 17, 9, 1,\n",
        "      59, 51, 43, 35, 27, 19, 11, 3,\n",
        "      61, 53, 45, 37, 29, 21, 13, 5,\n",
        "      63, 55, 47, 39, 31, 23, 15, 7]\n",
        "IP_new = \"\"\n",
        "for shift in IP:\n",
        "    IP_new += key_plus[shift - 1]\n",
        "L0 = IP_new[0: int(len(IP_new) / 2)]\n",
        "R0 = IP_new[int(len(IP_new) / 2):]\n",
        "print(\"IP is:\", end=\"\")\n",
        "printn(IP_new, 4)\n",
        "print(\"L0 is:\", end=\"\")\n",
        "printn(L0, 4)\n",
        "print(\"R0 is:\", end=\"\")\n",
        "printn(R0, 4)"
      ],
      "execution_count": null,
      "outputs": [
        {
          "output_type": "stream",
          "text": [
            "IP is:1100 1100 0000 0000 1100 1100 1111 1111 1111 0000 1010 1010 1111 0000 1010 1010 \n",
            "L0 is:1100 1100 0000 0000 1100 1100 1111 1111 \n",
            "R0 is:1111 0000 1010 1010 1111 0000 1010 1010 \n"
          ],
          "name": "stdout"
        }
      ]
    },
    {
      "cell_type": "markdown",
      "metadata": {
        "id": "buC2HG6qWAW4"
      },
      "source": [
        "### C"
      ]
    },
    {
      "cell_type": "code",
      "metadata": {
        "id": "AZvKrQN5WAW5",
        "outputId": "f0c38f5e-455a-4afe-d7c2-215e4ba1f72c",
        "colab": {
          "base_uri": "https://localhost:8080/"
        }
      },
      "source": [
        "E = [32, 1, 2, 3, 4, 5,\n",
        "     4, 5, 6, 7, 8, 9,\n",
        "     8, 9, 10, 11, 12, 13,\n",
        "     12, 13, 14, 15, 16, 17,\n",
        "     16, 17, 18, 19, 20, 21,\n",
        "     20, 21, 22, 23, 24, 25,\n",
        "     24, 25, 26, 27, 28, 29,\n",
        "     28, 29, 30, 31, 32, 1]\n",
        "E_Ro = \"\"\n",
        "for shift in E:\n",
        "    E_Ro += R0[shift - 1]\n",
        "print(\"E_Ro: \", end=\"\")\n",
        "printn(E_Ro, 4)"
      ],
      "execution_count": null,
      "outputs": [
        {
          "output_type": "stream",
          "text": [
            "E_Ro: 0111 1010 0001 0101 0101 0101 0111 1010 0001 0101 0101 0101 \n"
          ],
          "name": "stdout"
        }
      ]
    },
    {
      "cell_type": "markdown",
      "metadata": {
        "id": "Y2C00LaMWAW9"
      },
      "source": [
        "### D\n",
        "XOR E_Ro with k1"
      ]
    },
    {
      "cell_type": "code",
      "metadata": {
        "id": "IBAl9_4XWAW9",
        "outputId": "31dfa8ff-b0ed-492f-f97f-30ee0bc82fcf",
        "colab": {
          "base_uri": "https://localhost:8080/"
        }
      },
      "source": [
        "A = \"\"\n",
        "for i, j in zip(E_Ro, k1):\n",
        "    A += str(int(i) ^ int(j))\n",
        "print(\"A: \", end=\"\")\n",
        "printn(A, 4)"
      ],
      "execution_count": null,
      "outputs": [
        {
          "output_type": "stream",
          "text": [
            "A: 0111 0001 0001 0111 0011 0010 1110 0001 0101 1100 1111 0000 \n"
          ],
          "name": "stdout"
        }
      ]
    },
    {
      "cell_type": "code",
      "metadata": {
        "id": "Xc1N7FkIWAW_",
        "outputId": "16cc582d-8ed0-45bb-bda3-e2c293eede2a",
        "colab": {
          "base_uri": "https://localhost:8080/"
        }
      },
      "source": [
        "s_box = [\n",
        "            [\n",
        "                [14, 4, 13, 1, 2, 15, 11, 8, 3, 10, 6, 12, 5, 9, 0, 7],\n",
        "                [0, 15, 7, 4, 14, 2, 13, 1, 10, 6, 12, 11, 9, 5, 3, 8],\n",
        "                [4, 1, 14, 8, 13, 6, 2, 11, 15, 12, 9, 7, 3, 10, 5, 0],\n",
        "                [15, 12, 8, 2, 4, 9, 1, 7, 5, 11, 3, 14, 10, 0, 6, 13],\n",
        "            ],\n",
        "\n",
        "            [\n",
        "                [15, 1, 8, 14, 6, 11, 3, 4, 9, 7, 2, 13, 12, 0, 5, 10],\n",
        "                [3, 13, 4, 7, 15, 2, 8, 14, 12, 0, 1, 10, 6, 9, 11, 5],\n",
        "                [0, 14, 7, 11, 10, 4, 13, 1, 5, 8, 12, 6, 9, 3, 2, 15],\n",
        "                [13, 8, 10, 1, 3, 15, 4, 2, 11, 6, 7, 12, 0, 5, 14, 9],\n",
        "            ],\n",
        "\n",
        "            [\n",
        "                [10, 0, 9, 14, 6, 3, 15, 5, 1, 13, 12, 7, 11, 4, 2, 8],\n",
        "                [13, 7, 0, 9, 3, 4, 6, 10, 2, 8, 5, 14, 12, 11, 15, 1],\n",
        "                [13, 6, 4, 9, 8, 15, 3, 0, 11, 1, 2, 12, 5, 10, 14, 7],\n",
        "                [1, 10, 13, 0, 6, 9, 8, 7, 4, 15, 14, 3, 11, 5, 2, 12],\n",
        "            ],\n",
        "\n",
        "            [\n",
        "                [7, 13, 14, 3, 0, 6, 9, 10, 1, 2, 8, 5, 11, 12, 4, 15],\n",
        "                [13, 8, 11, 5, 6, 15, 0, 3, 4, 7, 2, 12, 1, 10, 14, 9],\n",
        "                [10, 6, 9, 0, 12, 11, 7, 13, 15, 1, 3, 14, 5, 2, 8, 4],\n",
        "                [3, 15, 0, 6, 10, 1, 13, 8, 9, 4, 5, 11, 12, 7, 2, 14],\n",
        "            ],  \n",
        "\n",
        "            [\n",
        "                [2, 12, 4, 1, 7, 10, 11, 6, 8, 5, 3, 15, 13, 0, 14, 9],\n",
        "                [14, 11, 2, 12, 4, 7, 13, 1, 5, 0, 15, 10, 3, 9, 8, 6],\n",
        "                [4, 2, 1, 11, 10, 13, 7, 8, 15, 9, 12, 5, 6, 3, 0, 14],\n",
        "                [11, 8, 12, 7, 1, 14, 2, 13, 6, 15, 0, 9, 10, 4, 5, 3],\n",
        "            ], \n",
        "\n",
        "            [\n",
        "                [12, 1, 10, 15, 9, 2, 6, 8, 0, 13, 3, 4, 14, 7, 5, 11],\n",
        "                [10, 15, 4, 2, 7, 12, 9, 5, 6, 1, 13, 14, 0, 11, 3, 8],\n",
        "                [9, 14, 15, 5, 2, 8, 12, 3, 7, 0, 4, 10, 1, 13, 11, 6],\n",
        "                [4, 3, 2, 12, 9, 5, 15, 10, 11, 14, 1, 7, 6, 0, 8, 13],\n",
        "            ], \n",
        "\n",
        "            [\n",
        "                [4, 11, 2, 14, 15, 0, 8, 13, 3, 12, 9, 7, 5, 10, 6, 1],\n",
        "                [13, 0, 11, 7, 4, 9, 1, 10, 14, 3, 5, 12, 2, 15, 8, 6],\n",
        "                [1, 4, 11, 13, 12, 3, 7, 14, 10, 15, 6, 8, 0, 5, 9, 2],\n",
        "                [6, 11, 13, 8, 1, 4, 10, 7, 9, 5, 0, 15, 14, 2, 3, 12],\n",
        "            ],\n",
        "   \n",
        "            [\n",
        "                [13, 2, 8, 4, 6, 15, 11, 1, 10, 9, 3, 14, 5, 0, 12, 7],\n",
        "                [1, 15, 13, 8, 10, 3, 7, 4, 12, 5, 6, 11, 0, 14, 9, 2],\n",
        "                [7, 11, 4, 1, 9, 12, 14, 2, 0, 6, 10, 13, 15, 3, 5, 8],\n",
        "                [2, 1, 14, 7, 4, 10, 8, 13, 15, 12, 9, 0, 3, 5, 6, 11],\n",
        "            ]\n",
        "]\n",
        "\n",
        "list_of_6 = list()\n",
        "for x in range(0, 48, 6):\n",
        "    list_of_6.append(A[x: x + 6])\n",
        "    \n",
        "B = \"\"\n",
        "for x in range(0, 8):\n",
        "    outer = list_of_6[x][0] + list_of_6[x][5]\n",
        "    inner = list_of_6[x][1:5]\n",
        "    subbed = bin(s_box[x][int(outer, 2)][int(inner, 2)])[2:]\n",
        "    if len(subbed) < 4:\n",
        "        subbed = \"0\" * (4 - len(subbed)) + subbed\n",
        "    B += subbed\n",
        "    print(\"B\" + str(x + 1) + \":\\t\" + list_of_6[x] + \" ==>\\t\\t\" + subbed)\n",
        "    "
      ],
      "execution_count": null,
      "outputs": [
        {
          "output_type": "stream",
          "text": [
            "B1:\t011100 ==>\t\t0000\n",
            "B2:\t010001 ==>\t\t1100\n",
            "B3:\t011100 ==>\t\t0010\n",
            "B4:\t110010 ==>\t\t0001\n",
            "B5:\t111000 ==>\t\t0110\n",
            "B6:\t010101 ==>\t\t1101\n",
            "B7:\t110011 ==>\t\t0101\n",
            "B8:\t110000 ==>\t\t0000\n"
          ],
          "name": "stdout"
        }
      ]
    },
    {
      "cell_type": "markdown",
      "metadata": {
        "id": "2iK8G-XQWAXC"
      },
      "source": [
        "### F\n",
        "Take a look at the previous code block to find the sum of all B"
      ]
    },
    {
      "cell_type": "code",
      "metadata": {
        "id": "FCwLk4wOWAXC",
        "outputId": "6228c35d-40f2-43dc-86e4-f3aeea662b7f",
        "colab": {
          "base_uri": "https://localhost:8080/"
        }
      },
      "source": [
        "print(\"B: \", end=\"\")\n",
        "printn(B, 4)"
      ],
      "execution_count": null,
      "outputs": [
        {
          "output_type": "stream",
          "text": [
            "B: 0000 1100 0010 0001 0110 1101 0101 0000 \n"
          ],
          "name": "stdout"
        }
      ]
    },
    {
      "cell_type": "markdown",
      "metadata": {
        "id": "LngumxttWAXG"
      },
      "source": [
        "### G"
      ]
    },
    {
      "cell_type": "code",
      "metadata": {
        "id": "68dw9QmUWAXH",
        "outputId": "29189aea-3148-4b26-8fce-b8e38c3535d0",
        "colab": {
          "base_uri": "https://localhost:8080/"
        }
      },
      "source": [
        "P = [\n",
        "        16, 7, 20, 21,\n",
        "        29, 12, 28, 17,\n",
        "        1, 15, 23, 26,\n",
        "        5, 18, 31, 10,\n",
        "        2, 8, 24, 14,\n",
        "        32, 27, 3, 9,\n",
        "        19, 13, 30, 6,\n",
        "        22, 11, 4, 25,\n",
        "    ]\n",
        "\n",
        "PB = \"\"\n",
        "for shift in P:\n",
        "    PB += B[shift - 1]\n",
        "print(\"P(B): \", end=\"\")\n",
        "printn(PB, 4)"
      ],
      "execution_count": null,
      "outputs": [
        {
          "output_type": "stream",
          "text": [
            "P(B): 1001 0010 0001 1100 0010 0000 1001 1100 \n"
          ],
          "name": "stdout"
        }
      ]
    },
    {
      "cell_type": "markdown",
      "metadata": {
        "id": "fruyTWXIWAXJ"
      },
      "source": [
        "### H"
      ]
    },
    {
      "cell_type": "code",
      "metadata": {
        "id": "dWpJ0zc7WAXK",
        "outputId": "2b01d093-898c-4720-eb97-c4752cb463a8",
        "colab": {
          "base_uri": "https://localhost:8080/"
        }
      },
      "source": [
        "R1 = \"\"\n",
        "\n",
        "for i, j in zip(PB, L0):\n",
        "    R1 += str(int(i) ^ int(j))\n",
        "print(\"R1: \", end=\"\")\n",
        "printn(R1, 4)"
      ],
      "execution_count": null,
      "outputs": [
        {
          "output_type": "stream",
          "text": [
            "R1: 0101 1110 0001 1100 1110 1100 0110 0011 \n"
          ],
          "name": "stdout"
        }
      ]
    },
    {
      "cell_type": "markdown",
      "metadata": {
        "id": "7mCSpvg7WAXN"
      },
      "source": [
        "### I"
      ]
    },
    {
      "cell_type": "code",
      "metadata": {
        "id": "d9vX3d7TWAXN",
        "outputId": "8e9bf453-3400-43ae-bde9-592013cdda8f",
        "colab": {
          "base_uri": "https://localhost:8080/"
        }
      },
      "source": [
        "lookup = list(\"0123456789ABCDEF\")\n",
        "final_cipher = R0 + R1\n",
        "final_cipher_ba = \"\"\n",
        "for x in range(0, 64, 4):\n",
        "    final_cipher_ba += lookup[int(final_cipher[x: x + 4], 2)]\n",
        "print(\"Final cipher text:\", final_cipher_ba)"
      ],
      "execution_count": null,
      "outputs": [
        {
          "output_type": "stream",
          "text": [
            "Final cipher text: F0AAF0AA5E1CEC63\n"
          ],
          "name": "stdout"
        }
      ]
    }
  ]
}